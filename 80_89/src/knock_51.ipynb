{
 "cells": [
  {
   "cell_type": "code",
   "execution_count": 1,
   "id": "b8d0f9c6",
   "metadata": {},
   "outputs": [],
   "source": [
    "import pandas as pd\n",
    "from sklearn.feature_extraction.text import TfidfVectorizer\n",
    "import string\n",
    "import re"
   ]
  },
  {
   "cell_type": "code",
   "execution_count": 2,
   "id": "9bcaf326",
   "metadata": {},
   "outputs": [],
   "source": [
    "train = pd.read_csv('../data/train.txt', sep='\\t')\n",
    "valid = pd.read_csv('../data/valid.txt', sep='\\t')\n",
    "test = pd.read_csv('../data/test.txt', sep='\\t')"
   ]
  },
  {
   "cell_type": "code",
   "execution_count": 3,
   "id": "93f020d2",
   "metadata": {},
   "outputs": [],
   "source": [
    "#preprocessing 1.punctuations > space 2.number > 0 3.lower()\n",
    "\n",
    "def preprocessing(text):\n",
    "    table = str.maketrans(string.punctuation, \" \" * len(string.punctuation))\n",
    "    text = text.translate(table)\n",
    "    text = re.sub(r'[0-9]+', '0', text)\n",
    "    text = text.lower()\n",
    "    \n",
    "    return text"
   ]
  },
  {
   "cell_type": "code",
   "execution_count": 4,
   "id": "99517200",
   "metadata": {},
   "outputs": [],
   "source": [
    "train['Title'] = train['Title'].apply(lambda x : preprocessing(x))\n",
    "valid['Title'] = valid['Title'].apply(lambda x : preprocessing(x))\n",
    "test['Title'] = test['Title'].apply(lambda x : preprocessing(x))"
   ]
  },
  {
   "cell_type": "code",
   "execution_count": 5,
   "id": "2f030fa8",
   "metadata": {},
   "outputs": [],
   "source": [
    "vectorizer = TfidfVectorizer(min_df = 10)\n",
    "X_train = vectorizer.fit_transform(train.Title.values)\n",
    "X_valid = vectorizer.transform(valid.Title.values)\n",
    "X_test  = vectorizer.transform(test.Title.values)\n",
    "\n",
    "vocab = vectorizer.get_feature_names_out()\n",
    "\n",
    "X_train = pd.DataFrame(X_train.toarray(), columns=vocab)\n",
    "X_valid = pd.DataFrame(X_valid.toarray(), columns=vocab)\n",
    "X_test  = pd.DataFrame(X_test.toarray(), columns=vocab)"
   ]
  },
  {
   "cell_type": "code",
   "execution_count": 6,
   "id": "af63d267",
   "metadata": {},
   "outputs": [],
   "source": [
    "X_train.to_csv('../data/train_vec.txt', sep='\\t')\n",
    "X_valid.to_csv('../data/valid_vec.txt', sep='\\t')\n",
    "X_test.to_csv('../data/test_vec.txt', sep='\\t')"
   ]
  }
 ],
 "metadata": {
  "kernelspec": {
   "display_name": "Python 3 (ipykernel)",
   "language": "python",
   "name": "python3"
  },
  "language_info": {
   "codemirror_mode": {
    "name": "ipython",
    "version": 3
   },
   "file_extension": ".py",
   "mimetype": "text/x-python",
   "name": "python",
   "nbconvert_exporter": "python",
   "pygments_lexer": "ipython3",
   "version": "3.8.7"
  }
 },
 "nbformat": 4,
 "nbformat_minor": 5
}

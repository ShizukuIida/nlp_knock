{
 "cells": [
  {
   "cell_type": "code",
   "execution_count": 18,
   "id": "287427e3",
   "metadata": {},
   "outputs": [],
   "source": [
    "from tqdm import tqdm\n",
    "import pandas as pd\n",
    "from sklearn.linear_model import LogisticRegression\n",
    "from sklearn.metrics import accuracy_score\n",
    "import matplotlib.pyplot as plt\n",
    "import numpy as np"
   ]
  },
  {
   "cell_type": "code",
   "execution_count": 7,
   "id": "d15875c4",
   "metadata": {},
   "outputs": [],
   "source": [
    "train = pd.read_csv('../data/train.txt', sep='\\t')\n",
    "valid = pd.read_csv('../data/valid.txt', sep='\\t')\n",
    "test = pd.read_csv('../data/test.txt', sep='\\t')\n",
    "train_vec = pd.read_csv('../data/train_vec.txt', sep='\\t')\n",
    "valid_vec = pd.read_csv('../data/valid_vec.txt', sep='\\t')\n",
    "test_vec = pd.read_csv('../data/test_vec.txt', sep='\\t')"
   ]
  },
  {
   "cell_type": "code",
   "execution_count": 8,
   "id": "7bea8da9",
   "metadata": {},
   "outputs": [
    {
     "data": {
      "text/html": [
       "<div>\n",
       "<style scoped>\n",
       "    .dataframe tbody tr th:only-of-type {\n",
       "        vertical-align: middle;\n",
       "    }\n",
       "\n",
       "    .dataframe tbody tr th {\n",
       "        vertical-align: top;\n",
       "    }\n",
       "\n",
       "    .dataframe thead th {\n",
       "        text-align: right;\n",
       "    }\n",
       "</style>\n",
       "<table border=\"1\" class=\"dataframe\">\n",
       "  <thead>\n",
       "    <tr style=\"text-align: right;\">\n",
       "      <th></th>\n",
       "      <th>Unnamed: 0</th>\n",
       "      <th>0d</th>\n",
       "      <th>0m</th>\n",
       "      <th>0million</th>\n",
       "      <th>0nd</th>\n",
       "      <th>0s</th>\n",
       "      <th>0st</th>\n",
       "      <th>0th</th>\n",
       "      <th>aa</th>\n",
       "      <th>aaliyah</th>\n",
       "      <th>...</th>\n",
       "      <th>yields</th>\n",
       "      <th>york</th>\n",
       "      <th>you</th>\n",
       "      <th>young</th>\n",
       "      <th>your</th>\n",
       "      <th>yr</th>\n",
       "      <th>yuan</th>\n",
       "      <th>zac</th>\n",
       "      <th>zendaya</th>\n",
       "      <th>zone</th>\n",
       "    </tr>\n",
       "  </thead>\n",
       "  <tbody>\n",
       "    <tr>\n",
       "      <th>0</th>\n",
       "      <td>0</td>\n",
       "      <td>0.0</td>\n",
       "      <td>0.0</td>\n",
       "      <td>0.0</td>\n",
       "      <td>0.0</td>\n",
       "      <td>0.0</td>\n",
       "      <td>0.0</td>\n",
       "      <td>0.0</td>\n",
       "      <td>0.0</td>\n",
       "      <td>0.0</td>\n",
       "      <td>...</td>\n",
       "      <td>0.0</td>\n",
       "      <td>0.0</td>\n",
       "      <td>0.0</td>\n",
       "      <td>0.0</td>\n",
       "      <td>0.0</td>\n",
       "      <td>0.0</td>\n",
       "      <td>0.0</td>\n",
       "      <td>0.0</td>\n",
       "      <td>0.0</td>\n",
       "      <td>0.0</td>\n",
       "    </tr>\n",
       "    <tr>\n",
       "      <th>1</th>\n",
       "      <td>1</td>\n",
       "      <td>0.0</td>\n",
       "      <td>0.0</td>\n",
       "      <td>0.0</td>\n",
       "      <td>0.0</td>\n",
       "      <td>0.0</td>\n",
       "      <td>0.0</td>\n",
       "      <td>0.0</td>\n",
       "      <td>0.0</td>\n",
       "      <td>0.0</td>\n",
       "      <td>...</td>\n",
       "      <td>0.0</td>\n",
       "      <td>0.0</td>\n",
       "      <td>0.0</td>\n",
       "      <td>0.0</td>\n",
       "      <td>0.0</td>\n",
       "      <td>0.0</td>\n",
       "      <td>0.0</td>\n",
       "      <td>0.0</td>\n",
       "      <td>0.0</td>\n",
       "      <td>0.0</td>\n",
       "    </tr>\n",
       "    <tr>\n",
       "      <th>2</th>\n",
       "      <td>2</td>\n",
       "      <td>0.0</td>\n",
       "      <td>0.0</td>\n",
       "      <td>0.0</td>\n",
       "      <td>0.0</td>\n",
       "      <td>0.0</td>\n",
       "      <td>0.0</td>\n",
       "      <td>0.0</td>\n",
       "      <td>0.0</td>\n",
       "      <td>0.0</td>\n",
       "      <td>...</td>\n",
       "      <td>0.0</td>\n",
       "      <td>0.0</td>\n",
       "      <td>0.0</td>\n",
       "      <td>0.0</td>\n",
       "      <td>0.0</td>\n",
       "      <td>0.0</td>\n",
       "      <td>0.0</td>\n",
       "      <td>0.0</td>\n",
       "      <td>0.0</td>\n",
       "      <td>0.0</td>\n",
       "    </tr>\n",
       "    <tr>\n",
       "      <th>3</th>\n",
       "      <td>3</td>\n",
       "      <td>0.0</td>\n",
       "      <td>0.0</td>\n",
       "      <td>0.0</td>\n",
       "      <td>0.0</td>\n",
       "      <td>0.0</td>\n",
       "      <td>0.0</td>\n",
       "      <td>0.0</td>\n",
       "      <td>0.0</td>\n",
       "      <td>0.0</td>\n",
       "      <td>...</td>\n",
       "      <td>0.0</td>\n",
       "      <td>0.0</td>\n",
       "      <td>0.0</td>\n",
       "      <td>0.0</td>\n",
       "      <td>0.0</td>\n",
       "      <td>0.0</td>\n",
       "      <td>0.0</td>\n",
       "      <td>0.0</td>\n",
       "      <td>0.0</td>\n",
       "      <td>0.0</td>\n",
       "    </tr>\n",
       "    <tr>\n",
       "      <th>4</th>\n",
       "      <td>4</td>\n",
       "      <td>0.0</td>\n",
       "      <td>0.0</td>\n",
       "      <td>0.0</td>\n",
       "      <td>0.0</td>\n",
       "      <td>0.0</td>\n",
       "      <td>0.0</td>\n",
       "      <td>0.0</td>\n",
       "      <td>0.0</td>\n",
       "      <td>0.0</td>\n",
       "      <td>...</td>\n",
       "      <td>0.0</td>\n",
       "      <td>0.0</td>\n",
       "      <td>0.0</td>\n",
       "      <td>0.0</td>\n",
       "      <td>0.0</td>\n",
       "      <td>0.0</td>\n",
       "      <td>0.0</td>\n",
       "      <td>0.0</td>\n",
       "      <td>0.0</td>\n",
       "      <td>0.0</td>\n",
       "    </tr>\n",
       "  </tbody>\n",
       "</table>\n",
       "<p>5 rows × 1963 columns</p>\n",
       "</div>"
      ],
      "text/plain": [
       "   Unnamed: 0   0d   0m  0million  0nd   0s  0st  0th   aa  aaliyah  ...  \\\n",
       "0           0  0.0  0.0       0.0  0.0  0.0  0.0  0.0  0.0      0.0  ...   \n",
       "1           1  0.0  0.0       0.0  0.0  0.0  0.0  0.0  0.0      0.0  ...   \n",
       "2           2  0.0  0.0       0.0  0.0  0.0  0.0  0.0  0.0      0.0  ...   \n",
       "3           3  0.0  0.0       0.0  0.0  0.0  0.0  0.0  0.0      0.0  ...   \n",
       "4           4  0.0  0.0       0.0  0.0  0.0  0.0  0.0  0.0      0.0  ...   \n",
       "\n",
       "   yields  york  you  young  your   yr  yuan  zac  zendaya  zone  \n",
       "0     0.0   0.0  0.0    0.0   0.0  0.0   0.0  0.0      0.0   0.0  \n",
       "1     0.0   0.0  0.0    0.0   0.0  0.0   0.0  0.0      0.0   0.0  \n",
       "2     0.0   0.0  0.0    0.0   0.0  0.0   0.0  0.0      0.0   0.0  \n",
       "3     0.0   0.0  0.0    0.0   0.0  0.0   0.0  0.0      0.0   0.0  \n",
       "4     0.0   0.0  0.0    0.0   0.0  0.0   0.0  0.0      0.0   0.0  \n",
       "\n",
       "[5 rows x 1963 columns]"
      ]
     },
     "execution_count": 8,
     "metadata": {},
     "output_type": "execute_result"
    }
   ],
   "source": [
    "train_vec.head()"
   ]
  },
  {
   "cell_type": "code",
   "execution_count": 11,
   "id": "f915abbe",
   "metadata": {},
   "outputs": [
    {
     "data": {
      "text/plain": [
       "array([1.e-05, 1.e-04, 1.e-03, 1.e-02, 1.e-01, 1.e+00, 1.e+01, 1.e+02,\n",
       "       1.e+03, 1.e+04])"
      ]
     },
     "execution_count": 11,
     "metadata": {},
     "output_type": "execute_result"
    }
   ],
   "source": [
    "np.logspace(-5, 4, 10, base=10)"
   ]
  },
  {
   "cell_type": "code",
   "execution_count": 17,
   "id": "8fb09865",
   "metadata": {},
   "outputs": [
    {
     "name": "stderr",
     "output_type": "stream",
     "text": [
      "100%|███████████████████████████████████████████████████████████████████████████████████████████████████████████████████████████████████████| 10/10 [00:29<00:00,  2.99s/it]\n"
     ]
    }
   ],
   "source": [
    "result = []\n",
    "for C in tqdm(np.logspace(-5, 4, 10, base=10)):\n",
    "    cls = LogisticRegression(random_state=42, max_iter=10000, C=C)\n",
    "    cls.fit(train_vec.values, train.Category.values)\n",
    "    \n",
    "    train_acc = accuracy_score(cls.predict(train_vec.values), train.Category.values)\n",
    "    valid_acc = accuracy_score(cls.predict(valid_vec.values), valid.Category.values)\n",
    "    test_acc = accuracy_score(cls.predict(test_vec.values), test.Category.values)\n",
    "    \n",
    "    result.append([C, train_acc, valid_acc, test_acc])"
   ]
  },
  {
   "cell_type": "code",
   "execution_count": 22,
   "id": "0ce5a6f1",
   "metadata": {},
   "outputs": [
    {
     "data": {
      "image/png": "[encoded data removed]",
      "text/plain": [
       "<Figure size 432x288 with 1 Axes>"
      ]
     },
     "metadata": {
      "needs_background": "light"
     },
     "output_type": "display_data"
    }
   ],
   "source": [
    "result = np.array(result).T\n",
    "plt.plot(result[0], result[1], label='train')\n",
    "plt.plot(result[0], result[2], label='train')\n",
    "plt.plot(result[0], result[3], label='train')\n",
    "plt.ylim(0, 1.1)\n",
    "plt.ylabel('Accuracy')\n",
    "plt.xscale('log')\n",
    "plt.xlabel('C')\n",
    "plt.show()"
   ]
  },
  {
   "cell_type": "code",
   "execution_count": 24,
   "id": "67fe7819",
   "metadata": {},
   "outputs": [
    {
     "data": {
      "text/plain": [
       "array([[1.00000000e-05, 1.00000000e-04, 1.00000000e-03, 1.00000000e-02,\n",
       "        1.00000000e-01, 1.00000000e+00, 1.00000000e+01, 1.00000000e+02,\n",
       "        1.00000000e+03, 1.00000000e+04],\n",
       "       [4.17353823e-01, 4.27286357e-01, 5.71495502e-01, 5.73556972e-01,\n",
       "        7.66960270e-01, 8.18965517e-01, 7.99943778e-01, 8.00974513e-01,\n",
       "        8.37425037e-01, 8.37331334e-01],\n",
       "       [4.41529235e-01, 4.41529235e-01, 4.44527736e-01, 4.44527736e-01,\n",
       "        7.42878561e-01, 7.84857571e-01, 7.66866567e-01, 7.66866567e-01,\n",
       "        8.02098951e-01, 8.02098951e-01],\n",
       "       [4.22788606e-01, 4.22788606e-01, 4.28785607e-01, 4.28785607e-01,\n",
       "        7.34632684e-01, 7.85607196e-01, 7.81859070e-01, 7.81109445e-01,\n",
       "        8.07346327e-01, 8.07346327e-01]])"
      ]
     },
     "execution_count": 24,
     "metadata": {},
     "output_type": "execute_result"
    }
   ],
   "source": [
    "result"
   ]
  },
  {
   "cell_type": "code",
   "execution_count": null,
   "id": "270e1424",
   "metadata": {},
   "outputs": [],
   "source": []
  },
  {
   "cell_type": "code",
   "execution_count": null,
   "id": "ba6908cc",
   "metadata": {},
   "outputs": [],
   "source": [
    "#knock_59\n",
    "\n"
   ]
  }
 ],
 "metadata": {
  "kernelspec": {
   "display_name": "Python 3 (ipykernel)",
   "language": "python",
   "name": "python3"
  },
  "language_info": {
   "codemirror_mode": {
    "name": "ipython",
    "version": 3
   },
   "file_extension": ".py",
   "mimetype": "text/x-python",
   "name": "python",
   "nbconvert_exporter": "python",
   "pygments_lexer": "ipython3",
   "version": "3.8.7"
  }
 },
 "nbformat": 4,
 "nbformat_minor": 5
}

{
 "cells": [
  {
   "cell_type": "code",
   "execution_count": 1,
   "id": "b8d0f9c6",
   "metadata": {},
   "outputs": [],
   "source": [
    "import pandas as pd\n",
    "from sklearn.feature_extraction.text import TfidfVectorizer\n",
    "import string\n",
    "import re"
   ]
  },
  {
   "cell_type": "code",
   "execution_count": 11,
   "id": "9bcaf326",
   "metadata": {},
   "outputs": [],
   "source": [
    "train = pd.read_csv('../data/train.txt', sep='\\t')\n",
    "valid = pd.read_csv('../data/valid.txt', sep='\\t')\n",
    "test = pd.read_csv('../data/test.txt', sep='\\t')"
   ]
  },
  {
   "cell_type": "code",
   "execution_count": 19,
   "id": "2637321e",
   "metadata": {},
   "outputs": [],
   "source": [
    "#preprocessing 1.punctuations > space 2.number > 0 3.lower()\n",
    "\n",
    "def preprocessing(text):\n",
    "    table = str.maketrans(string.punctuation, \" \" * len(string.punctuation))\n",
    "    text = text.translate(table)\n",
    "    text = re.sub(r'[0-9]+', '0', text)\n",
    "    text = text.lower()\n",
    "    \n",
    "    return text"
   ]
  },
  {
   "cell_type": "code",
   "execution_count": 22,
   "id": "4fde1465",
   "metadata": {},
   "outputs": [],
   "source": [
    "train['Title'] = train['Title'].apply(lambda x : preprocessing(x))\n",
    "valid['Title'] = valid['Title'].apply(lambda x : preprocessing(x))\n",
    "test['Title'] = test['Title'].apply(lambda x : preprocessing(x))"
   ]
  },
  {
   "cell_type": "code",
   "execution_count": 26,
   "id": "2f030fa8",
   "metadata": {},
   "outputs": [],
   "source": [
    "vectorizer = TfidfVectorizer()\n",
    "tfidf = vectorizer.fit_transform(train.Title.values)"
   ]
  },
  {
   "cell_type": "code",
   "execution_count": 25,
   "id": "9f4a0987",
   "metadata": {},
   "outputs": [
    {
     "data": {
      "text/plain": [
       "array(['0b', '0billion', '0bn', ..., 'œlousyâ', 'œpiece', 'œwaist'],\n",
       "      dtype=object)"
      ]
     },
     "execution_count": 25,
     "metadata": {},
     "output_type": "execute_result"
    }
   ],
   "source": [
    "vectorizer.get_feature_names_out()"
   ]
  }
 ],
 "metadata": {
  "kernelspec": {
   "display_name": "Python 3 (ipykernel)",
   "language": "python",
   "name": "python3"
  },
  "language_info": {
   "codemirror_mode": {
    "name": "ipython",
    "version": 3
   },
   "file_extension": ".py",
   "mimetype": "text/x-python",
   "name": "python",
   "nbconvert_exporter": "python",
   "pygments_lexer": "ipython3",
   "version": "3.8.7"
  }
 },
 "nbformat": 4,
 "nbformat_minor": 5
}

{
 "cells": [
  {
   "cell_type": "code",
   "execution_count": 1,
   "id": "493d30c1",
   "metadata": {},
   "outputs": [],
   "source": [
    "#knock_52\n",
    "import pandas as pd\n",
    "from sklearn.linear_model import LogisticRegression"
   ]
  },
  {
   "cell_type": "code",
   "execution_count": 2,
   "id": "871bda5f",
   "metadata": {},
   "outputs": [],
   "source": [
    "x_train = pd.read_csv('../data/train_vec.txt', sep='\\t')\n",
    "x_valid = pd.read_csv('../data/valid_vec.txt', sep='\\t')\n",
    "x_test = pd.read_csv('../data/test_vec.txt', sep='\\t')"
   ]
  },
  {
   "cell_type": "code",
   "execution_count": 3,
   "id": "48809dbd",
   "metadata": {},
   "outputs": [],
   "source": [
    "train = pd.read_csv('../data/train.txt', sep='\\t')\n",
    "valid = pd.read_csv('../data/valid.txt', sep='\\t')\n",
    "test = pd.read_csv('../data/test.txt', sep='\\t')"
   ]
  },
  {
   "cell_type": "code",
   "execution_count": 4,
   "id": "1342664c",
   "metadata": {},
   "outputs": [
    {
     "data": {
      "text/html": [
       "<div>\n",
       "<style scoped>\n",
       "    .dataframe tbody tr th:only-of-type {\n",
       "        vertical-align: middle;\n",
       "    }\n",
       "\n",
       "    .dataframe tbody tr th {\n",
       "        vertical-align: top;\n",
       "    }\n",
       "\n",
       "    .dataframe thead th {\n",
       "        text-align: right;\n",
       "    }\n",
       "</style>\n",
       "<table border=\"1\" class=\"dataframe\">\n",
       "  <thead>\n",
       "    <tr style=\"text-align: right;\">\n",
       "      <th></th>\n",
       "      <th>Title</th>\n",
       "      <th>Category</th>\n",
       "    </tr>\n",
       "  </thead>\n",
       "  <tbody>\n",
       "    <tr>\n",
       "      <th>0</th>\n",
       "      <td>Justin Bieber sucks on a cigarette to replicat...</td>\n",
       "      <td>e</td>\n",
       "    </tr>\n",
       "    <tr>\n",
       "      <th>1</th>\n",
       "      <td>More Than 250 New Emoji To Be Released, And We...</td>\n",
       "      <td>t</td>\n",
       "    </tr>\n",
       "    <tr>\n",
       "      <th>2</th>\n",
       "      <td>Amanda Bynes Posts Bikini Photos During Family...</td>\n",
       "      <td>e</td>\n",
       "    </tr>\n",
       "    <tr>\n",
       "      <th>3</th>\n",
       "      <td>James Franco Offers Explanation For Half-Naked...</td>\n",
       "      <td>e</td>\n",
       "    </tr>\n",
       "    <tr>\n",
       "      <th>4</th>\n",
       "      <td>Selena Gomez Dons Flowy Blue Dress With Keyhol...</td>\n",
       "      <td>e</td>\n",
       "    </tr>\n",
       "  </tbody>\n",
       "</table>\n",
       "</div>"
      ],
      "text/plain": [
       "                                               Title Category\n",
       "0  Justin Bieber sucks on a cigarette to replicat...        e\n",
       "1  More Than 250 New Emoji To Be Released, And We...        t\n",
       "2  Amanda Bynes Posts Bikini Photos During Family...        e\n",
       "3  James Franco Offers Explanation For Half-Naked...        e\n",
       "4  Selena Gomez Dons Flowy Blue Dress With Keyhol...        e"
      ]
     },
     "execution_count": 4,
     "metadata": {},
     "output_type": "execute_result"
    }
   ],
   "source": [
    "train.head()"
   ]
  },
  {
   "cell_type": "code",
   "execution_count": 5,
   "id": "d4f026e2",
   "metadata": {},
   "outputs": [
    {
     "name": "stdout",
     "output_type": "stream",
     "text": [
      "10672\n",
      "10672\n"
     ]
    }
   ],
   "source": [
    "print(len(x_train))\n",
    "print(len(train['Category']))"
   ]
  },
  {
   "cell_type": "code",
   "execution_count": 6,
   "id": "89944e8b",
   "metadata": {},
   "outputs": [
    {
     "data": {
      "text/plain": [
       "LogisticRegression(max_iter=10000, random_state=123)"
      ]
     },
     "execution_count": 6,
     "metadata": {},
     "output_type": "execute_result"
    }
   ],
   "source": [
    "clf = LogisticRegression(random_state=123, max_iter=10000)\n",
    "clf.fit(x_train.values, train['Category'].values)"
   ]
  },
  {
   "cell_type": "code",
   "execution_count": 7,
   "id": "4ffad18d",
   "metadata": {},
   "outputs": [],
   "source": [
    "pred = clf.predict(x_valid.values)"
   ]
  },
  {
   "cell_type": "code",
   "execution_count": 8,
   "id": "5028e9fa",
   "metadata": {},
   "outputs": [],
   "source": [
    "#knock_53\n",
    "from sklearn.metrics import accuracy_score\n",
    "import numpy as np"
   ]
  },
  {
   "cell_type": "code",
   "execution_count": 9,
   "id": "3b2c0819",
   "metadata": {},
   "outputs": [
    {
     "name": "stdout",
     "output_type": "stream",
     "text": [
      "pridict_test_label : ['e' 'e' 'b' ... 'b' 'e' 'e']\n"
     ]
    }
   ],
   "source": [
    "print('pridict_test_label :', clf.predict(x_test.values))"
   ]
  },
  {
   "cell_type": "code",
   "execution_count": 11,
   "id": "c218832b",
   "metadata": {},
   "outputs": [
    {
     "name": "stdout",
     "output_type": "stream",
     "text": [
      "pridict_test_proba :  [0.71756403 0.40879801 0.65516653 ... 0.75018191 0.62772042 0.46951501]\n"
     ]
    }
   ],
   "source": [
    "max_proba = np.max(clf.predict_proba(x_test.values), axis=1)\n",
    "print('pridict_test_proba : ', max_proba)"
   ]
  },
  {
   "cell_type": "code",
   "execution_count": null,
   "id": "fdb63640",
   "metadata": {},
   "outputs": [],
   "source": []
  },
  {
   "cell_type": "code",
   "execution_count": 12,
   "id": "b38a7818",
   "metadata": {},
   "outputs": [
    {
     "name": "stdout",
     "output_type": "stream",
     "text": [
      "train_accuracy : 0.8190\n",
      "test_accuracy : 0.7856\n"
     ]
    }
   ],
   "source": [
    "#knock_54\n",
    "pred = clf.predict(x_train.values)\n",
    "print('train_accuracy : {:.4f}'.format(accuracy_score(train['Category'].values, pred)))\n",
    "pred = clf.predict(x_test.values)\n",
    "print('test_accuracy : {:.4f}'.format(accuracy_score(test['Category'].values, pred)))"
   ]
  },
  {
   "cell_type": "code",
   "execution_count": 37,
   "id": "01da6a59",
   "metadata": {},
   "outputs": [
    {
     "data": {
      "text/html": [
       "<div>\n",
       "<style scoped>\n",
       "    .dataframe tbody tr th:only-of-type {\n",
       "        vertical-align: middle;\n",
       "    }\n",
       "\n",
       "    .dataframe tbody tr th {\n",
       "        vertical-align: top;\n",
       "    }\n",
       "\n",
       "    .dataframe thead th {\n",
       "        text-align: right;\n",
       "    }\n",
       "</style>\n",
       "<table border=\"1\" class=\"dataframe\">\n",
       "  <thead>\n",
       "    <tr style=\"text-align: right;\">\n",
       "      <th></th>\n",
       "      <th>b</th>\n",
       "      <th>e</th>\n",
       "      <th>m</th>\n",
       "      <th>t</th>\n",
       "    </tr>\n",
       "  </thead>\n",
       "  <tbody>\n",
       "    <tr>\n",
       "      <th>0</th>\n",
       "      <td>0.400313</td>\n",
       "      <td>0.013279</td>\n",
       "      <td>0.542081</td>\n",
       "      <td>0.044327</td>\n",
       "    </tr>\n",
       "    <tr>\n",
       "      <th>1</th>\n",
       "      <td>0.412850</td>\n",
       "      <td>0.322971</td>\n",
       "      <td>0.162288</td>\n",
       "      <td>0.101892</td>\n",
       "    </tr>\n",
       "    <tr>\n",
       "      <th>2</th>\n",
       "      <td>0.429263</td>\n",
       "      <td>0.214216</td>\n",
       "      <td>0.110810</td>\n",
       "      <td>0.245710</td>\n",
       "    </tr>\n",
       "    <tr>\n",
       "      <th>3</th>\n",
       "      <td>0.018176</td>\n",
       "      <td>0.900752</td>\n",
       "      <td>0.038482</td>\n",
       "      <td>0.042589</td>\n",
       "    </tr>\n",
       "    <tr>\n",
       "      <th>4</th>\n",
       "      <td>0.014568</td>\n",
       "      <td>0.731389</td>\n",
       "      <td>0.101784</td>\n",
       "      <td>0.152258</td>\n",
       "    </tr>\n",
       "    <tr>\n",
       "      <th>...</th>\n",
       "      <td>...</td>\n",
       "      <td>...</td>\n",
       "      <td>...</td>\n",
       "      <td>...</td>\n",
       "    </tr>\n",
       "    <tr>\n",
       "      <th>1329</th>\n",
       "      <td>0.033766</td>\n",
       "      <td>0.461092</td>\n",
       "      <td>0.300508</td>\n",
       "      <td>0.204634</td>\n",
       "    </tr>\n",
       "    <tr>\n",
       "      <th>1330</th>\n",
       "      <td>0.035070</td>\n",
       "      <td>0.854516</td>\n",
       "      <td>0.064555</td>\n",
       "      <td>0.045858</td>\n",
       "    </tr>\n",
       "    <tr>\n",
       "      <th>1331</th>\n",
       "      <td>0.645302</td>\n",
       "      <td>0.148885</td>\n",
       "      <td>0.082324</td>\n",
       "      <td>0.123489</td>\n",
       "    </tr>\n",
       "    <tr>\n",
       "      <th>1332</th>\n",
       "      <td>0.797962</td>\n",
       "      <td>0.044570</td>\n",
       "      <td>0.066407</td>\n",
       "      <td>0.091061</td>\n",
       "    </tr>\n",
       "    <tr>\n",
       "      <th>1333</th>\n",
       "      <td>0.941081</td>\n",
       "      <td>0.019394</td>\n",
       "      <td>0.020545</td>\n",
       "      <td>0.018979</td>\n",
       "    </tr>\n",
       "  </tbody>\n",
       "</table>\n",
       "<p>1334 rows × 4 columns</p>\n",
       "</div>"
      ],
      "text/plain": [
       "             b         e         m         t\n",
       "0     0.400313  0.013279  0.542081  0.044327\n",
       "1     0.412850  0.322971  0.162288  0.101892\n",
       "2     0.429263  0.214216  0.110810  0.245710\n",
       "3     0.018176  0.900752  0.038482  0.042589\n",
       "4     0.014568  0.731389  0.101784  0.152258\n",
       "...        ...       ...       ...       ...\n",
       "1329  0.033766  0.461092  0.300508  0.204634\n",
       "1330  0.035070  0.854516  0.064555  0.045858\n",
       "1331  0.645302  0.148885  0.082324  0.123489\n",
       "1332  0.797962  0.044570  0.066407  0.091061\n",
       "1333  0.941081  0.019394  0.020545  0.018979\n",
       "\n",
       "[1334 rows x 4 columns]"
      ]
     },
     "execution_count": 37,
     "metadata": {},
     "output_type": "execute_result"
    }
   ],
   "source": [
    "pd.DataFrame(clf.predict_proba(x_valid.values), columns=clf.classes_)"
   ]
  },
  {
   "cell_type": "code",
   "execution_count": null,
   "id": "756a392a",
   "metadata": {},
   "outputs": [],
   "source": []
  },
  {
   "cell_type": "code",
   "execution_count": 14,
   "id": "9f46cb0c",
   "metadata": {},
   "outputs": [],
   "source": [
    "#knock_55\n",
    "from sklearn.metrics import confusion_matrix"
   ]
  },
  {
   "cell_type": "code",
   "execution_count": 15,
   "id": "3991a294",
   "metadata": {},
   "outputs": [
    {
     "data": {
      "text/plain": [
       "array([[4070,  354,    4,   46],\n",
       "       [ 198, 4061,    2,   16],\n",
       "       [ 222,  289,  184,   16],\n",
       "       [ 417,  366,    2,  425]])"
      ]
     },
     "execution_count": 15,
     "metadata": {},
     "output_type": "execute_result"
    }
   ],
   "source": [
    "confusion_matrix(train.Category.values, clf.predict(x_train.values))"
   ]
  },
  {
   "cell_type": "code",
   "execution_count": 16,
   "id": "d5238611",
   "metadata": {},
   "outputs": [
    {
     "data": {
      "text/plain": [
       "array([[521,  40,   0,   3],\n",
       "       [ 42, 453,   0,   3],\n",
       "       [ 37,  37,  25,   0],\n",
       "       [ 75,  48,   1,  49]])"
      ]
     },
     "execution_count": 16,
     "metadata": {},
     "output_type": "execute_result"
    }
   ],
   "source": [
    "confusion_matrix(test.Category.values, clf.predict(x_test.values))"
   ]
  },
  {
   "cell_type": "code",
   "execution_count": null,
   "id": "c0b93ac1",
   "metadata": {},
   "outputs": [],
   "source": []
  },
  {
   "cell_type": "code",
   "execution_count": 17,
   "id": "32d6ec5f",
   "metadata": {},
   "outputs": [],
   "source": [
    "#knock_56\n",
    "from sklearn.metrics import precision_score, recall_score, f1_score"
   ]
  },
  {
   "cell_type": "code",
   "execution_count": 19,
   "id": "7f43dd2a",
   "metadata": {},
   "outputs": [],
   "source": [
    "def calculate_metrics(true, predict):\n",
    "    precision = precision_score(true, predict, average=None)\n",
    "    precision = np.append(precision, precision_score(true, predict, average='micro'))\n",
    "    precision = np.append(precision, precision_score(true, predict, average='macro'))\n",
    "    \n",
    "    recall = recall_score(true, predict, average=None)\n",
    "    recall = np.append(recall, recall_score(true, predict, average='micro'))\n",
    "    recall = np.append(recall, recall_score(true, predict, average='macro'))\n",
    "    \n",
    "    f1 = f1_score(true, predict, average=None)\n",
    "    f1 = np.append(f1, f1_score(true, predict, average='micro'))\n",
    "    f1 = np.append(f1, f1_score(true, predict, average='macro'))\n",
    "    \n",
    "    return precision, recall, f1"
   ]
  },
  {
   "cell_type": "code",
   "execution_count": 20,
   "id": "403af4e4",
   "metadata": {},
   "outputs": [],
   "source": [
    "precision, recall, f1 = calculate_metrics(test.Category.values, clf.predict(x_test.values))"
   ]
  },
  {
   "cell_type": "code",
   "execution_count": 21,
   "id": "727f6fea",
   "metadata": {},
   "outputs": [
    {
     "data": {
      "text/html": [
       "<div>\n",
       "<style scoped>\n",
       "    .dataframe tbody tr th:only-of-type {\n",
       "        vertical-align: middle;\n",
       "    }\n",
       "\n",
       "    .dataframe tbody tr th {\n",
       "        vertical-align: top;\n",
       "    }\n",
       "\n",
       "    .dataframe thead th {\n",
       "        text-align: right;\n",
       "    }\n",
       "</style>\n",
       "<table border=\"1\" class=\"dataframe\">\n",
       "  <thead>\n",
       "    <tr style=\"text-align: right;\">\n",
       "      <th></th>\n",
       "      <th>適合率</th>\n",
       "      <th>再現率</th>\n",
       "      <th>f1</th>\n",
       "    </tr>\n",
       "  </thead>\n",
       "  <tbody>\n",
       "    <tr>\n",
       "      <th>b</th>\n",
       "      <td>0.771852</td>\n",
       "      <td>0.923759</td>\n",
       "      <td>0.841001</td>\n",
       "    </tr>\n",
       "    <tr>\n",
       "      <th>e</th>\n",
       "      <td>0.783737</td>\n",
       "      <td>0.909639</td>\n",
       "      <td>0.842007</td>\n",
       "    </tr>\n",
       "    <tr>\n",
       "      <th>t</th>\n",
       "      <td>0.961538</td>\n",
       "      <td>0.252525</td>\n",
       "      <td>0.400000</td>\n",
       "    </tr>\n",
       "    <tr>\n",
       "      <th>m</th>\n",
       "      <td>0.890909</td>\n",
       "      <td>0.283237</td>\n",
       "      <td>0.429825</td>\n",
       "    </tr>\n",
       "    <tr>\n",
       "      <th>micro</th>\n",
       "      <td>0.785607</td>\n",
       "      <td>0.785607</td>\n",
       "      <td>0.785607</td>\n",
       "    </tr>\n",
       "    <tr>\n",
       "      <th>macro</th>\n",
       "      <td>0.852009</td>\n",
       "      <td>0.592290</td>\n",
       "      <td>0.628208</td>\n",
       "    </tr>\n",
       "  </tbody>\n",
       "</table>\n",
       "</div>"
      ],
      "text/plain": [
       "            適合率       再現率        f1\n",
       "b      0.771852  0.923759  0.841001\n",
       "e      0.783737  0.909639  0.842007\n",
       "t      0.961538  0.252525  0.400000\n",
       "m      0.890909  0.283237  0.429825\n",
       "micro  0.785607  0.785607  0.785607\n",
       "macro  0.852009  0.592290  0.628208"
      ]
     },
     "execution_count": 21,
     "metadata": {},
     "output_type": "execute_result"
    }
   ],
   "source": [
    "pd.DataFrame({'適合率': precision , '再現率': recall,  'f1': f1}, index=['b', 'e', 't', 'm', 'micro', 'macro'])"
   ]
  },
  {
   "cell_type": "code",
   "execution_count": null,
   "id": "55beeea8",
   "metadata": {},
   "outputs": [],
   "source": []
  },
  {
   "cell_type": "code",
   "execution_count": 29,
   "id": "8cab9781",
   "metadata": {},
   "outputs": [
    {
     "data": {
      "text/plain": [
       "1963"
      ]
     },
     "execution_count": 29,
     "metadata": {},
     "output_type": "execute_result"
    }
   ],
   "source": [
    "#knock_57"
   ]
  },
  {
   "cell_type": "code",
   "execution_count": 85,
   "id": "440ec9bc",
   "metadata": {},
   "outputs": [],
   "source": [
    "features = x_train.columns.values"
   ]
  },
  {
   "cell_type": "code",
   "execution_count": 84,
   "id": "87f17a21",
   "metadata": {},
   "outputs": [
    {
     "name": "stdout",
     "output_type": "stream",
     "text": [
      "class : b\n"
     ]
    },
    {
     "data": {
      "text/html": [
       "<div>\n",
       "<style scoped>\n",
       "    .dataframe tbody tr th:only-of-type {\n",
       "        vertical-align: middle;\n",
       "    }\n",
       "\n",
       "    .dataframe tbody tr th {\n",
       "        vertical-align: top;\n",
       "    }\n",
       "\n",
       "    .dataframe thead th {\n",
       "        text-align: right;\n",
       "    }\n",
       "</style>\n",
       "<table border=\"1\" class=\"dataframe\">\n",
       "  <thead>\n",
       "    <tr style=\"text-align: right;\">\n",
       "      <th></th>\n",
       "      <th>1</th>\n",
       "      <th>2</th>\n",
       "      <th>3</th>\n",
       "      <th>4</th>\n",
       "      <th>5</th>\n",
       "      <th>6</th>\n",
       "      <th>7</th>\n",
       "      <th>8</th>\n",
       "      <th>9</th>\n",
       "      <th>10</th>\n",
       "    </tr>\n",
       "  </thead>\n",
       "  <tbody>\n",
       "    <tr>\n",
       "      <th>top_10</th>\n",
       "      <td>us</td>\n",
       "      <td>update</td>\n",
       "      <td>stocks</td>\n",
       "      <td>china</td>\n",
       "      <td>as</td>\n",
       "      <td>euro</td>\n",
       "      <td>ecb</td>\n",
       "      <td>dollar</td>\n",
       "      <td>fed</td>\n",
       "      <td>bank</td>\n",
       "    </tr>\n",
       "    <tr>\n",
       "      <th>worst_10</th>\n",
       "      <td>the</td>\n",
       "      <td>and</td>\n",
       "      <td>kardashian</td>\n",
       "      <td>her</td>\n",
       "      <td>is</td>\n",
       "      <td>kim</td>\n",
       "      <td>of</td>\n",
       "      <td>with</td>\n",
       "      <td>star</td>\n",
       "      <td>she</td>\n",
       "    </tr>\n",
       "  </tbody>\n",
       "</table>\n",
       "</div>"
      ],
      "text/plain": [
       "           1       2           3      4   5     6    7       8     9     10\n",
       "top_10     us  update      stocks  china  as  euro  ecb  dollar   fed  bank\n",
       "worst_10  the     and  kardashian    her  is   kim   of    with  star   she"
      ]
     },
     "metadata": {},
     "output_type": "display_data"
    },
    {
     "name": "stdout",
     "output_type": "stream",
     "text": [
      "\n",
      "\n",
      "class : e\n"
     ]
    },
    {
     "data": {
      "text/html": [
       "<div>\n",
       "<style scoped>\n",
       "    .dataframe tbody tr th:only-of-type {\n",
       "        vertical-align: middle;\n",
       "    }\n",
       "\n",
       "    .dataframe tbody tr th {\n",
       "        vertical-align: top;\n",
       "    }\n",
       "\n",
       "    .dataframe thead th {\n",
       "        text-align: right;\n",
       "    }\n",
       "</style>\n",
       "<table border=\"1\" class=\"dataframe\">\n",
       "  <thead>\n",
       "    <tr style=\"text-align: right;\">\n",
       "      <th></th>\n",
       "      <th>1</th>\n",
       "      <th>2</th>\n",
       "      <th>3</th>\n",
       "      <th>4</th>\n",
       "      <th>5</th>\n",
       "      <th>6</th>\n",
       "      <th>7</th>\n",
       "      <th>8</th>\n",
       "      <th>9</th>\n",
       "      <th>10</th>\n",
       "    </tr>\n",
       "  </thead>\n",
       "  <tbody>\n",
       "    <tr>\n",
       "      <th>top_10</th>\n",
       "      <td>the</td>\n",
       "      <td>and</td>\n",
       "      <td>kardashian</td>\n",
       "      <td>kim</td>\n",
       "      <td>her</td>\n",
       "      <td>cyrus</td>\n",
       "      <td>miley</td>\n",
       "      <td>star</td>\n",
       "      <td>she</td>\n",
       "      <td>chris</td>\n",
       "    </tr>\n",
       "    <tr>\n",
       "      <th>worst_10</th>\n",
       "      <td>update</td>\n",
       "      <td>us</td>\n",
       "      <td>says</td>\n",
       "      <td>stocks</td>\n",
       "      <td>china</td>\n",
       "      <td>to</td>\n",
       "      <td>as</td>\n",
       "      <td>euro</td>\n",
       "      <td>ecb</td>\n",
       "      <td>dollar</td>\n",
       "    </tr>\n",
       "  </tbody>\n",
       "</table>\n",
       "</div>"
      ],
      "text/plain": [
       "              1    2           3       4      5      6      7     8    9   \\\n",
       "top_10       the  and  kardashian     kim    her  cyrus  miley  star  she   \n",
       "worst_10  update   us        says  stocks  china     to     as  euro  ecb   \n",
       "\n",
       "              10  \n",
       "top_10     chris  \n",
       "worst_10  dollar  "
      ]
     },
     "metadata": {},
     "output_type": "display_data"
    },
    {
     "name": "stdout",
     "output_type": "stream",
     "text": [
      "\n",
      "\n",
      "class : m\n"
     ]
    },
    {
     "data": {
      "text/html": [
       "<div>\n",
       "<style scoped>\n",
       "    .dataframe tbody tr th:only-of-type {\n",
       "        vertical-align: middle;\n",
       "    }\n",
       "\n",
       "    .dataframe tbody tr th {\n",
       "        vertical-align: top;\n",
       "    }\n",
       "\n",
       "    .dataframe thead th {\n",
       "        text-align: right;\n",
       "    }\n",
       "</style>\n",
       "<table border=\"1\" class=\"dataframe\">\n",
       "  <thead>\n",
       "    <tr style=\"text-align: right;\">\n",
       "      <th></th>\n",
       "      <th>1</th>\n",
       "      <th>2</th>\n",
       "      <th>3</th>\n",
       "      <th>4</th>\n",
       "      <th>5</th>\n",
       "      <th>6</th>\n",
       "      <th>7</th>\n",
       "      <th>8</th>\n",
       "      <th>9</th>\n",
       "      <th>10</th>\n",
       "    </tr>\n",
       "  </thead>\n",
       "  <tbody>\n",
       "    <tr>\n",
       "      <th>top_10</th>\n",
       "      <td>ebola</td>\n",
       "      <td>study</td>\n",
       "      <td>drug</td>\n",
       "      <td>cancer</td>\n",
       "      <td>fda</td>\n",
       "      <td>outbreak</td>\n",
       "      <td>could</td>\n",
       "      <td>mers</td>\n",
       "      <td>virus</td>\n",
       "      <td>more</td>\n",
       "    </tr>\n",
       "    <tr>\n",
       "      <th>worst_10</th>\n",
       "      <td>stocks</td>\n",
       "      <td>kardashian</td>\n",
       "      <td>at</td>\n",
       "      <td>kim</td>\n",
       "      <td>china</td>\n",
       "      <td>euro</td>\n",
       "      <td>ecb</td>\n",
       "      <td>dollar</td>\n",
       "      <td>deal</td>\n",
       "      <td>on</td>\n",
       "    </tr>\n",
       "  </tbody>\n",
       "</table>\n",
       "</div>"
      ],
      "text/plain": [
       "              1           2     3       4      5         6      7       8   \\\n",
       "top_10     ebola       study  drug  cancer    fda  outbreak  could    mers   \n",
       "worst_10  stocks  kardashian    at     kim  china      euro    ecb  dollar   \n",
       "\n",
       "             9     10  \n",
       "top_10    virus  more  \n",
       "worst_10   deal    on  "
      ]
     },
     "metadata": {},
     "output_type": "display_data"
    },
    {
     "name": "stdout",
     "output_type": "stream",
     "text": [
      "\n",
      "\n",
      "class : t\n"
     ]
    },
    {
     "data": {
      "text/html": [
       "<div>\n",
       "<style scoped>\n",
       "    .dataframe tbody tr th:only-of-type {\n",
       "        vertical-align: middle;\n",
       "    }\n",
       "\n",
       "    .dataframe tbody tr th {\n",
       "        vertical-align: top;\n",
       "    }\n",
       "\n",
       "    .dataframe thead th {\n",
       "        text-align: right;\n",
       "    }\n",
       "</style>\n",
       "<table border=\"1\" class=\"dataframe\">\n",
       "  <thead>\n",
       "    <tr style=\"text-align: right;\">\n",
       "      <th></th>\n",
       "      <th>1</th>\n",
       "      <th>2</th>\n",
       "      <th>3</th>\n",
       "      <th>4</th>\n",
       "      <th>5</th>\n",
       "      <th>6</th>\n",
       "      <th>7</th>\n",
       "      <th>8</th>\n",
       "      <th>9</th>\n",
       "      <th>10</th>\n",
       "    </tr>\n",
       "  </thead>\n",
       "  <tbody>\n",
       "    <tr>\n",
       "      <th>top_10</th>\n",
       "      <td>google</td>\n",
       "      <td>apple</td>\n",
       "      <td>facebook</td>\n",
       "      <td>gm</td>\n",
       "      <td>microsoft</td>\n",
       "      <td>to</td>\n",
       "      <td>climate</td>\n",
       "      <td>mobile</td>\n",
       "      <td>comcast</td>\n",
       "      <td>samsung</td>\n",
       "    </tr>\n",
       "    <tr>\n",
       "      <th>worst_10</th>\n",
       "      <td>stocks</td>\n",
       "      <td>as</td>\n",
       "      <td>kardashian</td>\n",
       "      <td>kim</td>\n",
       "      <td>her</td>\n",
       "      <td>euro</td>\n",
       "      <td>fed</td>\n",
       "      <td>at</td>\n",
       "      <td>ecb</td>\n",
       "      <td>after</td>\n",
       "    </tr>\n",
       "  </tbody>\n",
       "</table>\n",
       "</div>"
      ],
      "text/plain": [
       "              1      2           3    4          5     6        7       8   \\\n",
       "top_10    google  apple    facebook   gm  microsoft    to  climate  mobile   \n",
       "worst_10  stocks     as  kardashian  kim        her  euro      fed      at   \n",
       "\n",
       "               9        10  \n",
       "top_10    comcast  samsung  \n",
       "worst_10      ecb    after  "
      ]
     },
     "metadata": {},
     "output_type": "display_data"
    },
    {
     "name": "stdout",
     "output_type": "stream",
     "text": [
      "\n",
      "\n"
     ]
    }
   ],
   "source": [
    "for i, item in enumerate(clf.classes_) :\n",
    "    print(f'class : {item}')\n",
    "    best10 = pd.DataFrame(features[np.argsort(clf.coef_[i])[::-1][:10]],\\\n",
    "                      columns=['top_10'], index=[i for i in range(1, 11)]).T\n",
    "    worst10 = pd.DataFrame(features[np.argsort(clf.coef_[i])[:10]],\\\n",
    "                      columns=['worst_10'], index=[i for i in range(1, 11)]).T\n",
    "    display(pd.concat([best10, worst10], axis=0))\n",
    "    print('\\n')"
   ]
  },
  {
   "cell_type": "code",
   "execution_count": null,
   "id": "0992f97c",
   "metadata": {},
   "outputs": [],
   "source": []
  }
 ],
 "metadata": {
  "kernelspec": {
   "display_name": "Python 3 (ipykernel)",
   "language": "python",
   "name": "python3"
  },
  "language_info": {
   "codemirror_mode": {
    "name": "ipython",
    "version": 3
   },
   "file_extension": ".py",
   "mimetype": "text/x-python",
   "name": "python",
   "nbconvert_exporter": "python",
   "pygments_lexer": "ipython3",
   "version": "3.8.7"
  }
 },
 "nbformat": 4,
 "nbformat_minor": 5
}
